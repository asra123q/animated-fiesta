{
 "cells": [
  {
   "cell_type": "markdown",
   "id": "83767bf4",
   "metadata": {},
   "source": [
    "Title\n",
    "\n",
    "Data Science Tools and Ecosystem"
   ]
  },
  {
   "cell_type": "markdown",
   "id": "b952ede4",
   "metadata": {},
   "source": [
    "Introduction\n",
    "\n",
    "In this notebook, Data Science Tools and Ecosystem are summarized."
   ]
  },
  {
   "cell_type": "markdown",
   "id": "e8b12ce8",
   "metadata": {},
   "source": [
    "Some of the popular languages that Data Scientists use are:\n",
    "\n",
    "1. R\n",
    "2. Python\n",
    "3. SQL\n",
    "4. C++"
   ]
  },
  {
   "cell_type": "markdown",
   "id": "a8241096",
   "metadata": {},
   "source": [
    "Some of the commonly used libraries used by Data Scientists include:\n",
    "\n",
    "1. pandas\n",
    "2. numpy\n",
    "3. scikit-learn\n",
    "4. matplotlib\n",
    "5. seaborn\n",
    "6. keras\n",
    "7. tensorflow"
   ]
  },
  {
   "cell_type": "markdown",
   "id": "615806a3",
   "metadata": {},
   "source": [
    "Data Science Tools\n",
    "\n",
    "1. Jupyter Notebook\n",
    "2. Visual Studio Code\n",
    "3. RStudio"
   ]
  },
  {
   "cell_type": "markdown",
   "id": "2bb02815",
   "metadata": {},
   "source": [
    "### Below are a few examples of evaluating arithmetic expressions in Python:\n",
    "\n",
    "- 1 + 1 = 2\n",
    "- 1 - 1 = 0\n",
    "- 1 / 1 = 1\n",
    "- 1 * 1 = 1"
   ]
  },
  {
   "cell_type": "code",
   "execution_count": 1,
   "id": "ad29b22d",
   "metadata": {},
   "outputs": [
    {
     "data": {
      "text/plain": [
       "17"
      ]
     },
     "execution_count": 1,
     "metadata": {},
     "output_type": "execute_result"
    }
   ],
   "source": [
    "(3*4)+5"
   ]
  },
  {
   "cell_type": "code",
   "execution_count": 2,
   "id": "c0d4b751",
   "metadata": {},
   "outputs": [
    {
     "name": "stdout",
     "output_type": "stream",
     "text": [
      "200\n"
     ]
    },
    {
     "data": {
      "text/plain": [
       "3"
      ]
     },
     "execution_count": 2,
     "metadata": {},
     "output_type": "execute_result"
    }
   ],
   "source": [
    "hours = 0\n",
    "minutes = input()\n",
    "minutes = int(minutes)\n",
    "hours = minutes/60\n",
    "int(hours)"
   ]
  },
  {
   "cell_type": "markdown",
   "id": "e0cd94ae",
   "metadata": {},
   "source": [
    "Objectives\n",
    "\n",
    "1. Create a Jupyter Notebook\n",
    "\n",
    "2. Insert code and markdown cells\n",
    "\n",
    "3. Share your notebook through GitHub"
   ]
  },
  {
   "cell_type": "markdown",
   "id": "1bf035f7",
   "metadata": {},
   "source": [
    "## Author\n",
    "\n",
    "Defrant Ferdinand Salim"
   ]
  }
 ],
 "metadata": {
  "kernelspec": {
   "display_name": "Python 3 (ipykernel)",
   "language": "python",
   "name": "python3"
  },
  "language_info": {
   "codemirror_mode": {
    "name": "ipython",
    "version": 3
   },
   "file_extension": ".py",
   "mimetype": "text/x-python",
   "name": "python",
   "nbconvert_exporter": "python",
   "pygments_lexer": "ipython3",
   "version": "3.9.12"
  }
 },
 "nbformat": 4,
 "nbformat_minor": 5
}
