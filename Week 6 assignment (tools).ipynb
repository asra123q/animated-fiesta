{
 "cells": [
  {
   "cell_type": "markdown",
   "id": "83767bf4",
   "metadata": {},
   "source": [
    "Title\n",
    "\n",
    "Notebook for week 6"
   ]
  },
  {
   "cell_type": "markdown",
   "id": "b952ede4",
   "metadata": {},
   "source": [
    "Introduction\n",
    "\n",
    "This notebook is created to be submitted as my final assignment in the course"
   ]
  },
  {
   "cell_type": "markdown",
   "id": "e8b12ce8",
   "metadata": {},
   "source": [
    "Data Science Languages\n",
    "\n",
    "R\n",
    "Python"
   ]
  },
  {
   "cell_type": "markdown",
   "id": "a8241096",
   "metadata": {},
   "source": [
    "Data Science Libraries\n",
    "\n",
    "pandas\n",
    "numpy\n",
    "scikit-learn\n",
    "matplotlib\n",
    "pyplot\n",
    "folium\n",
    "dash"
   ]
  },
  {
   "cell_type": "markdown",
   "id": "615806a3",
   "metadata": {},
   "source": [
    "Data Science Tools\n",
    "\n",
    "Jupyter Notebook\n"
   ]
  },
  {
   "cell_type": "markdown",
   "id": "2bb02815",
   "metadata": {},
   "source": [
    "Basic Arithmetic Expressions\n",
    "1 + 1 = 2\n",
    "1 - 1 = 0\n",
    "1 / 1 = 1\n",
    "1 * 1 = 1"
   ]
  },
  {
   "cell_type": "code",
   "execution_count": 4,
   "id": "ad29b22d",
   "metadata": {},
   "outputs": [
    {
     "name": "stdout",
     "output_type": "stream",
     "text": [
      "1 + 1 =  2 , 1 * 1 =  1\n"
     ]
    }
   ],
   "source": [
    "print('1 + 1 = ', 1+1,', 1 * 1 = ', 1*1)"
   ]
  },
  {
   "cell_type": "code",
   "execution_count": 7,
   "id": "c0d4b751",
   "metadata": {},
   "outputs": [
    {
     "name": "stdout",
     "output_type": "stream",
     "text": [
      "1800\n"
     ]
    },
    {
     "data": {
      "text/plain": [
       "30"
      ]
     },
     "execution_count": 7,
     "metadata": {},
     "output_type": "execute_result"
    }
   ],
   "source": [
    "hours = 0\n",
    "minutes = input()\n",
    "minutes = int(minutes)\n",
    "hours = minutes/60\n",
    "int(hours)"
   ]
  },
  {
   "cell_type": "markdown",
   "id": "e0cd94ae",
   "metadata": {},
   "source": [
    "Objectives\n",
    "Exercise 2 - Create a markdown cell with the title of the notebook. (1 pt)\n",
    "\n",
    "Exercise 3 - Create a markdown cell for an introduction. (1 pt)\n",
    "\n",
    "Exercise 4 - Create a markdown cell to list data science languages. (3 pts)\n",
    "\n",
    "Exercise 5 - Create a markdown cell to list data science libraries. (3 pts)\n",
    "\n",
    "Exercise 6 - Create a markdown cell with a table of Data Science tools. (3 pts)\n",
    "\n",
    "Exercise 7 - Create a markdown cell introducing arithmetic expression examples. (1 pt)\n",
    "\n",
    "Exercise 8 - Create a code cell to multiply and add numbers. (2 pts)\n",
    "\n",
    "Exercise 9 - Create a code cell to convert minutes to hours. (2 pts)\n",
    "\n",
    "Exercise 10 -Insert a markdown cell to list Objectives. (3 pts)\n",
    "\n",
    "Exercise 11 - Create a markdown cell to indicate the Author’s name. (2 pts)\n",
    "\n",
    "Exercise 12 - Share your notebook through GitHub (3 pts)\n",
    "\n",
    "Exercise 13 - Take a screenshot of the first page of the notebook. (1 pt)"
   ]
  },
  {
   "cell_type": "markdown",
   "id": "1bf035f7",
   "metadata": {},
   "source": [
    "Author\n",
    "\n",
    "Defrant Ferdinand Salim"
   ]
  }
 ],
 "metadata": {
  "kernelspec": {
   "display_name": "Python 3 (ipykernel)",
   "language": "python",
   "name": "python3"
  },
  "language_info": {
   "codemirror_mode": {
    "name": "ipython",
    "version": 3
   },
   "file_extension": ".py",
   "mimetype": "text/x-python",
   "name": "python",
   "nbconvert_exporter": "python",
   "pygments_lexer": "ipython3",
   "version": "3.9.12"
  }
 },
 "nbformat": 4,
 "nbformat_minor": 5
}
